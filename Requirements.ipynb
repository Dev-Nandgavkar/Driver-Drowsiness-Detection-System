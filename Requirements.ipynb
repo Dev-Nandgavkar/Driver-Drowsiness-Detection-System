{
 "cells": [
  {
   "cell_type": "code",
   "execution_count": null,
   "id": "c7052351-7e18-4ec8-a440-71a135f3788b",
   "metadata": {},
   "outputs": [],
   "source": [
    "pip install -r requirements.txt"
   ]
  },
  {
   "cell_type": "code",
   "execution_count": null,
   "id": "dc1f7024-689b-4d07-8546-793bd0ab5de0",
   "metadata": {},
   "outputs": [],
   "source": [
    "pip install tensorflow==2.10.0"
   ]
  },
  {
   "cell_type": "code",
   "execution_count": null,
   "id": "421eb529-0a9d-40b2-90f4-61b4d3545924",
   "metadata": {},
   "outputs": [],
   "source": [
    "pip install keras==2.10.0"
   ]
  },
  {
   "cell_type": "code",
   "execution_count": null,
   "id": "9c3f5510-b462-42b4-ba6c-31222cff7dcd",
   "metadata": {},
   "outputs": [],
   "source": [
    "pip install opencv-python"
   ]
  },
  {
   "cell_type": "code",
   "execution_count": null,
   "id": "7cb4cb09-2d84-45bc-8128-a608a93469b8",
   "metadata": {},
   "outputs": [],
   "source": [
    "pip install pygame"
   ]
  },
  {
   "cell_type": "code",
   "execution_count": null,
   "id": "d18633e1-e0a6-4585-b198-141122643549",
   "metadata": {},
   "outputs": [],
   "source": [
    "pip install numpy"
   ]
  }
 ],
 "metadata": {
  "kernelspec": {
   "display_name": "Python 3 (ipykernel)",
   "language": "python",
   "name": "python3"
  },
  "language_info": {
   "codemirror_mode": {
    "name": "ipython",
    "version": 3
   },
   "file_extension": ".py",
   "mimetype": "text/x-python",
   "name": "python",
   "nbconvert_exporter": "python",
   "pygments_lexer": "ipython3",
   "version": "3.12.3"
  }
 },
 "nbformat": 4,
 "nbformat_minor": 5
}
